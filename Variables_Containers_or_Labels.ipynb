{
 "cells": [
  {
   "cell_type": "markdown",
   "id": "543d0dd9",
   "metadata": {},
   "source": [
    "--- "
   ]
  },
  {
   "cell_type": "markdown",
   "id": "eb330c83",
   "metadata": {},
   "source": [
    "Manning Live Project"
   ]
  },
  {
   "cell_type": "markdown",
   "id": "cd622656",
   "metadata": {},
   "source": [
    "Write code to discover the extent of the puzzling behavior \n",
    "    -creating and modifying pairs of variables with different types in Python.\n",
    "- Include types like int, float, str, list, tuple, and dict.\n",
    "- Create one variable, then create a second variable that is equal to the first.\n",
    "- Change one of the two variables and see what happens. If the type allows it try changing both the contents (an element in a list or dictionary) as well as setting it equal to a new object.\n",
    "- Upload a link to your deliverable in the Submit Your Work section and click submit. After submitting, the Author’s solution and peer solutions will appear on the page for you to examine."
   ]
  },
  {
   "cell_type": "code",
   "execution_count": 5,
   "id": "214ccfbc",
   "metadata": {},
   "outputs": [
    {
     "name": "stdout",
     "output_type": "stream",
     "text": [
      "4 4\n",
      "5 4\n",
      "5 6\n"
     ]
    }
   ],
   "source": [
    "#Integers\n",
    "a = 4\n",
    "b = a\n",
    "print(a, b)\n",
    "a = 5\n",
    "print(a, b)\n",
    "b = 6\n",
    "print(a, b)\n",
    "\n",
    "## Integers are immutable! Are a container"
   ]
  },
  {
   "cell_type": "code",
   "execution_count": 16,
   "id": "a16c3910",
   "metadata": {},
   "outputs": [
    {
     "name": "stdout",
     "output_type": "stream",
     "text": [
      "four four\n"
     ]
    },
    {
     "ename": "TypeError",
     "evalue": "'str' object does not support item assignment",
     "output_type": "error",
     "traceback": [
      "\u001b[0;31m---------------------------------------------------------------------------\u001b[0m",
      "\u001b[0;31mTypeError\u001b[0m                                 Traceback (most recent call last)",
      "\u001b[0;32m<ipython-input-16-f4951c8ef2f2>\u001b[0m in \u001b[0;36m<module>\u001b[0;34m\u001b[0m\n\u001b[1;32m      3\u001b[0m \u001b[0mb\u001b[0m \u001b[0;34m=\u001b[0m \u001b[0ma\u001b[0m\u001b[0;34m\u001b[0m\u001b[0;34m\u001b[0m\u001b[0m\n\u001b[1;32m      4\u001b[0m \u001b[0mprint\u001b[0m\u001b[0;34m(\u001b[0m\u001b[0ma\u001b[0m\u001b[0;34m,\u001b[0m \u001b[0mb\u001b[0m\u001b[0;34m)\u001b[0m\u001b[0;34m\u001b[0m\u001b[0;34m\u001b[0m\u001b[0m\n\u001b[0;32m----> 5\u001b[0;31m \u001b[0mb\u001b[0m\u001b[0;34m[\u001b[0m\u001b[0;36m1\u001b[0m\u001b[0;34m]\u001b[0m \u001b[0;34m=\u001b[0m \u001b[0;34m'five'\u001b[0m\u001b[0;34m\u001b[0m\u001b[0;34m\u001b[0m\u001b[0m\n\u001b[0m\u001b[1;32m      6\u001b[0m \u001b[0mprint\u001b[0m\u001b[0;34m(\u001b[0m\u001b[0ma\u001b[0m\u001b[0;34m,\u001b[0m \u001b[0mb\u001b[0m\u001b[0;34m)\u001b[0m\u001b[0;34m\u001b[0m\u001b[0;34m\u001b[0m\u001b[0m\n\u001b[1;32m      7\u001b[0m \u001b[0ma\u001b[0m \u001b[0;34m=\u001b[0m \u001b[0;34m'six'\u001b[0m\u001b[0;34m\u001b[0m\u001b[0;34m\u001b[0m\u001b[0m\n",
      "\u001b[0;31mTypeError\u001b[0m: 'str' object does not support item assignment"
     ]
    }
   ],
   "source": [
    "#string\n",
    "a = 'four'\n",
    "b = a\n",
    "print(a, b)\n",
    "b = 'five'\n",
    "print(a, b)\n",
    "a = 'six'\n",
    "print(a, b)\n",
    "\n",
    "## Strings are immutable! Are a container"
   ]
  },
  {
   "cell_type": "code",
   "execution_count": 11,
   "id": "551dfe9d",
   "metadata": {},
   "outputs": [
    {
     "name": "stdout",
     "output_type": "stream",
     "text": [
      "1.0 1.0\n",
      "1.0 0.5\n",
      "9e-05 0.5\n"
     ]
    }
   ],
   "source": [
    "# float\n",
    "a = 1.0\n",
    "b = a\n",
    "print(a, b)\n",
    "b = 0.5\n",
    "print(a, b)\n",
    "a = .00009\n",
    "print(a, b)\n",
    "\n",
    "## Floats are immutable! Are a container"
   ]
  },
  {
   "cell_type": "code",
   "execution_count": 20,
   "id": "a2a1aa2f",
   "metadata": {},
   "outputs": [
    {
     "name": "stdout",
     "output_type": "stream",
     "text": [
      "[1, 2, 3] [1, 2, 3]\n",
      "[1, 5, 3] [1, 5, 3]\n",
      "[1, 5, 9] [1, 5, 9]\n",
      "['a', 'b', 'c'] ['a', 'b', 'c']\n",
      "['a', 'z', 'c'] ['a', 'z', 'c']\n",
      "['a', 'z', 'q'] ['a', 'z', 'q']\n",
      "[0.1, 0.2, 0.3] [0.1, 0.2, 0.3]\n",
      "[0.1, 5.0, 0.3] [0.1, 5.0, 0.3]\n",
      "[0.1, 5.0, 0.009] [0.1, 5.0, 0.009]\n"
     ]
    }
   ],
   "source": [
    "#lists\n",
    "a = [1,2,3]\n",
    "b = a\n",
    "print(a, b)\n",
    "a[1] = 5\n",
    "print(a, b)\n",
    "b[2] = 9\n",
    "print(a, b)\n",
    "\n",
    "## Lists of integers are mutable. Are a label.\n",
    "\n",
    "a = [\"a\", \"b\", \"c\"]\n",
    "b = a\n",
    "print(a, b)\n",
    "a[1] = \"z\"\n",
    "print(a, b)\n",
    "b[2] = \"q\"\n",
    "print(a, b)\n",
    "\n",
    "## Lists of strings are mutable. Are a label.\n",
    "\n",
    "a = [.1,.2,.3]\n",
    "b = a\n",
    "print(a, b)\n",
    "a[1] = 5.0\n",
    "print(a, b)\n",
    "b[2] = .009\n",
    "print(a, b)\n",
    "\n",
    "## Lists of floats are mutable. Are a label.\n",
    "\n"
   ]
  },
  {
   "cell_type": "code",
   "execution_count": 24,
   "id": "b756b805",
   "metadata": {},
   "outputs": [
    {
     "name": "stdout",
     "output_type": "stream",
     "text": [
      "(1, 2, 3) (1, 2, 3)\n",
      "(2, 3, 4) (1, 2, 3)\n"
     ]
    }
   ],
   "source": [
    "#tuple\n",
    "a = (1,2,3)\n",
    "b = a\n",
    "print(a, b)\n",
    "a = (2,3,4)\n",
    "print(a, b)\n",
    "\n",
    "## Tuples are immutable! Are a container. Also tuple position assignment throws an error"
   ]
  },
  {
   "cell_type": "code",
   "execution_count": 30,
   "id": "4cf9d484",
   "metadata": {},
   "outputs": [
    {
     "name": "stdout",
     "output_type": "stream",
     "text": [
      "{1: 'a', 2: 'b', 3: 'c'} {1: 'a', 2: 'b', 3: 'c'}\n",
      "{1: 'z', 2: 'b', 3: 'c'} {1: 'z', 2: 'b', 3: 'c'}\n"
     ]
    }
   ],
   "source": [
    "#dict\n",
    "a = {1: 'a', 2: 'b', 3: 'c'}\n",
    "b = a\n",
    "print(a, b)\n",
    "a[1] = 'z'\n",
    "print(a, b)\n",
    "\n",
    "## dictionaries are mutable. Are a label."
   ]
  },
  {
   "cell_type": "markdown",
   "id": "ed719331",
   "metadata": {},
   "source": [
    "### Conclusion\n",
    "- Variables can be both labels and containers \n",
    "- There are 2 variables that act as labels - lists and dictionaries.\n",
    "- Tuples, string, int, floats are immutable, and therefore are containers.\n"
   ]
  },
  {
   "cell_type": "code",
   "execution_count": null,
   "id": "110292a7",
   "metadata": {},
   "outputs": [],
   "source": []
  }
 ],
 "metadata": {
  "kernelspec": {
   "display_name": "Python 3",
   "language": "python",
   "name": "python3"
  },
  "language_info": {
   "codemirror_mode": {
    "name": "ipython",
    "version": 3
   },
   "file_extension": ".py",
   "mimetype": "text/x-python",
   "name": "python",
   "nbconvert_exporter": "python",
   "pygments_lexer": "ipython3",
   "version": "3.8.8"
  }
 },
 "nbformat": 4,
 "nbformat_minor": 5
}
